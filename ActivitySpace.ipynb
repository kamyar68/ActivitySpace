{
 "cells": [
  {
   "cell_type": "markdown",
   "id": "ca6971ad-1247-40a7-8f3a-007b85347ba2",
   "metadata": {},
   "source": [
    "## Making activity spaces using open source Python libraries"
   ]
  },
  {
   "cell_type": "markdown",
   "id": "02a5bf4c-061f-45ed-90b4-6a5b5fbca7ec",
   "metadata": {},
   "source": [
    "Here we will try making activity space models directly from within Python enviornment. The code used here used open source Python libraries only. "
   ]
  },
  {
   "cell_type": "markdown",
   "id": "6bd1e63f-90b6-4d53-a99b-2cabbd8611e4",
   "metadata": {},
   "source": [
    "**Setting the paths**\n",
    "\n",
    "As a first step (and a good coding practice) let's clearly define our paths so that we do not run into issues while working with data."
   ]
  },
  {
   "cell_type": "code",
   "execution_count": null,
   "id": "8a708690-9b59-4ffd-8e8e-e275da09821d",
   "metadata": {},
   "outputs": [],
   "source": [
    "import pathlib\n",
    "import geopandas as gpd\n",
    "import pandas as pd\n",
    "from shapely.geometry import Point"
   ]
  },
  {
   "cell_type": "code",
   "execution_count": null,
   "id": "d4b65514-b780-4ae7-85fe-13a4eaa5b88b",
   "metadata": {},
   "outputs": [],
   "source": [
    "NOTEBOOK_PATH = pathlib.Path().resolve()\n",
    "DATA_DIRECTORY = NOTEBOOK_PATH / \"data\"\n",
    "output_DIRECTORY = NOTEBOOK_PATH / \"output\"\n",
    "raster_DIRECTORY = NOTEBOOK_PATH / \"output/raster\"\n",
    "\n",
    "# paths to our data and outputs:\n",
    "home_file = DATA_DIRECTORY / \"home20.shp\"\n",
    "activity_file = DATA_DIRECTORY / \"eep20.shp\"\n",
    "output_file = output_DIRECTORY /\"Output.gpkg\"\n",
    "route_file = DATA_DIRECTORY /\"shortest_routes.shp\"\n",
    "temp_DIRECTORY = NOTEBOOK_PATH / \"output\" / \"temp\""
   ]
  },
  {
   "cell_type": "markdown",
   "id": "736dc836-15b3-4cdd-80f5-8edf920c3d9f",
   "metadata": {},
   "source": [
    "**Loading data**\n",
    "\n",
    "Now let's load our home data as a geodataframe and project to a suitable CRS. Then we take a quick look at data."
   ]
  },
  {
   "cell_type": "code",
   "execution_count": null,
   "id": "287121a7-f383-4b56-a8c3-cecd3bb06961",
   "metadata": {},
   "outputs": [],
   "source": [
    "gdf_home = gpd.read_file(home_file)\n",
    "gdf_home=gdf_home.to_crs(\"EPSG:3067\")"
   ]
  },
  {
   "cell_type": "code",
   "execution_count": null,
   "id": "6c2f2ce0-edcc-4b71-86c7-0b9c3fcfb49d",
   "metadata": {},
   "outputs": [],
   "source": [
    "gdf_home.head()"
   ]
  },
  {
   "cell_type": "code",
   "execution_count": null,
   "id": "f9715abe-ed1b-4b10-ab36-794ef459b904",
   "metadata": {},
   "outputs": [],
   "source": [
    "gdf_home.plot()"
   ]
  },
  {
   "cell_type": "markdown",
   "source": [
    "Let's try buffer first:"
   ],
   "metadata": {
    "collapsed": false
   },
   "id": "326e028aaa8f9186"
  },
  {
   "cell_type": "code",
   "execution_count": null,
   "id": "c57ae3a6-7a33-454b-ba34-8e7f64466755",
   "metadata": {},
   "outputs": [],
   "source": [
    "buffer_distance = 500\n",
    "buffered_home = gpd.GeoDataFrame(geometry=gdf_home['geometry'].buffer(buffer_distance), crs=gdf_home.crs)\n",
    "ax = buffered_home.plot(marker='o', color='white', markersize=100, figsize=(8, 8))\n",
    "buffered_home.boundary.plot(ax=ax, edgecolor='blue', linewidth=2)\n",
    "gdf_home.plot(ax=ax, facecolor='purple', markersize=10, marker='x')"
   ]
  },
  {
   "cell_type": "markdown",
   "id": "ac6c584c-be9d-4d28-bce8-52cd28a11f0a",
   "metadata": {},
   "source": [
    "Now let's use the activity space modelers. First we will try the home range model. There is a function in the main.py file called \"nb_withRoute\". This function creates a home range model by also taking the routes into account. let's call the function and provide the inputs:"
   ]
  },
  {
   "cell_type": "code",
   "execution_count": null,
   "id": "93b47626-965b-451b-9c74-fd1486ef129e",
   "metadata": {},
   "outputs": [],
   "source": [
    "from main import nb_withRoute\n",
    "D1, D2 = 500, 200\n",
    "nb_withRoute(home_file, activity_file, route_file, output_file, \"uid\", D1, D2)"
   ]
  },
  {
   "cell_type": "code",
   "execution_count": null,
   "id": "ccc6937f-8965-4ce2-b07a-f949e9cafe3a",
   "metadata": {},
   "outputs": [],
   "source": [
    "# Lets load the output and take a look at it\n",
    "home_range = gpd.read_file(output_DIRECTORY / \"Output.gpkg\")\n",
    "home_range.head()\n"
   ]
  },
  {
   "cell_type": "code",
   "execution_count": null,
   "id": "e0cfa82b-9840-4d7d-9ae7-367e1c5cf418",
   "metadata": {},
   "outputs": [],
   "source": [
    "home_range.boundary.plot()"
   ]
  },
  {
   "cell_type": "code",
   "execution_count": null,
   "outputs": [],
   "source": [
    "# make an interactive map and add basemap\n",
    "import folium\n",
    "interactive_map = folium.Map(\n",
    "    location=(65, 25.48),\n",
    "    zoom_start=10\n",
    ")\n",
    "\n",
    "hr = folium.features.GeoJson(\n",
    "    home_range,\n",
    "    name=\"Public transport stops\"\n",
    ")\n",
    "hr.add_to(interactive_map)\n",
    "\n",
    "interactive_map"
   ],
   "metadata": {
    "collapsed": false
   },
   "id": "75547a20f26a6774"
  },
  {
   "cell_type": "code",
   "execution_count": null,
   "id": "c3ff04ca-293e-4157-b9bf-37928e119986",
   "metadata": {},
   "outputs": [],
   "source": [
    "all_uids = home_range['uid'].tolist()\n",
    "print (all_uids)"
   ]
  },
  {
   "cell_type": "code",
   "execution_count": null,
   "id": "55e84004-d1ce-4f46-af73-557f0c73f349",
   "metadata": {},
   "outputs": [],
   "source": [
    "# choose a uid to visualize alone\n",
    "desired_uid = 920380\n",
    "selected_row = home_range[home_range['uid'] == desired_uid]\n",
    "selected_row.boundary.plot()"
   ]
  },
  {
   "cell_type": "code",
   "execution_count": null,
   "id": "a31abf8e-e218-4546-aa8d-bdae44b7fa03",
   "metadata": {},
   "outputs": [],
   "source": [
    "from main import IREM\n",
    "home_file = DATA_DIRECTORY / \"small_data/Home.shp\"\n",
    "activity_file = DATA_DIRECTORY / \"small_data/eep.shp\"\n",
    "route_file = DATA_DIRECTORY /\"small_data/routes.shp\"\n",
    "output_file = output_DIRECTORY /\"HR_small_data.gpkg\"\n",
    "D1, D2 = 500 , 200\n",
    "nb_withRoute(home_file, activity_file, route_file, output_file, \"uid\", D1, D2)"
   ]
  },
  {
   "cell_type": "code",
   "execution_count": null,
   "id": "c261dbd4-0642-49e1-826c-eaadefd3dcd0",
   "metadata": {},
   "outputs": [],
   "source": [
    "#IREM(home_file,activity_file,output_file,route_file)\n",
    "pixelsize= 20\n",
    "IREM(home_file,activity_file,output_file,route_file, pixelsize)"
   ]
  },
  {
   "cell_type": "code",
   "execution_count": null,
   "id": "9e5bf08d-5d96-4cc8-8f03-73c4f70b5738",
   "metadata": {},
   "outputs": [],
   "source": [
    "import rasterio\n",
    "from rasterio.plot import show\n",
    "import matplotlib.pyplot as plt\n",
    "\n",
    "# Lets choose a uid to visualize \n",
    "\n",
    "uid = 425004\n",
    "with rasterio.open(raster_DIRECTORY / f'nb_{uid}.tif') as src:\n",
    "    # Read the raster data\n",
    "    raster_data = src.read(1)  # Use index 1 for a single-band raster\n",
    "\n",
    "    # Define the margin\n",
    "    margin = 100  # Adjust this value based on your preference\n",
    "\n",
    "    # Calculate the new extent with a margin\n",
    "    left = src.bounds.left - margin * src.res[0]\n",
    "    right = src.bounds.right + margin * src.res[0]\n",
    "    bottom = src.bounds.bottom - margin * src.res[1]\n",
    "    top = src.bounds.top + margin * src.res[1]\n",
    "\n",
    "    # Visualize the raster data with the new extent and add a title\n",
    "    plt.figure(figsize=(10, 10))\n",
    "    plt.imshow(raster_data, extent=(left, right, bottom, top), cmap='viridis')  # You can choose a different colormap (cmap)\n",
    "    plt.title(f'IREM for uid:{uid}')\n",
    "    plt.colorbar(label='Exposure Value')  # Add a colorbar if needed\n",
    "    plt.show()\n"
   ]
  },
  {
   "cell_type": "code",
   "execution_count": null,
   "id": "f861e4d1-a570-46ff-a13f-441093238f82",
   "metadata": {},
   "outputs": [],
   "source": []
  }
 ],
 "metadata": {
  "kernelspec": {
   "display_name": "Python 3 (ipykernel)",
   "language": "python",
   "name": "python3"
  },
  "language_info": {
   "codemirror_mode": {
    "name": "ipython",
    "version": 3
   },
   "file_extension": ".py",
   "mimetype": "text/x-python",
   "name": "python",
   "nbconvert_exporter": "python",
   "pygments_lexer": "ipython3",
   "version": "3.10.13"
  }
 },
 "nbformat": 4,
 "nbformat_minor": 5
}
